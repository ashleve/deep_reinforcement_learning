{
 "cells": [
  {
   "cell_type": "code",
   "execution_count": 89,
   "metadata": {},
   "outputs": [],
   "source": [
    "import gym\n",
    "import numpy as np\n",
    "import matplotlib.pyplot as plt\n",
    "\n",
    "\n",
    "env = gym.make('NChain-v0')\n",
    "Q = np.zeros((5, 2))\n",
    "lr = 0.01\n",
    "gamma = 0.6\n",
    "epsilon = 0.3\n",
    "\n"
   ]
  },
  {
   "cell_type": "code",
   "execution_count": 112,
   "metadata": {},
   "outputs": [],
   "source": [
    "def run_policy():\n",
    "    s = env.reset()\n",
    "    cumulative_reward = 0\n",
    "\n",
    "    done = False\n",
    "    for i in range(100):\n",
    "        action = max_action(s)\n",
    "        s, reward, done, info = env.step(action)\n",
    "        cumulative_reward += reward\n",
    "\n",
    "    return cumulative_reward\n",
    "\n",
    "\n",
    "def test_policy(n):\n",
    "    return sum([run_policy() for i in range(n)]) / n\n",
    "\n",
    "\n",
    "def max_action(s):\n",
    "    return np.argmax(Q[s, :])\n",
    "\n",
    "\n",
    "def choose_action(s):\n",
    "    if np.random.random() < epsilon:\n",
    "        return env.action_space.sample()\n",
    "    else:\n",
    "        return max_action(s)"
   ]
  },
  {
   "cell_type": "code",
   "execution_count": 117,
   "metadata": {},
   "outputs": [],
   "source": [
    "def Q_learning():\n",
    "    history = []\n",
    "    for episodes in range(100):\n",
    "        s = env.reset()\n",
    "\n",
    "        for i in range(50):\n",
    "            action = choose_action(s)\n",
    "            s_next, reward, done, info = env.step(action)\n",
    "\n",
    "            Q[s, action] = (1-lr)*Q[s, action] + lr*(reward + gamma*np.max(Q[s_next, :]))\n",
    "\n",
    "            s = s_next\n",
    "        history.append(test_policy(100))\n",
    "    env.close()\n",
    "    return history"
   ]
  },
  {
   "cell_type": "code",
   "execution_count": 118,
   "metadata": {},
   "outputs": [],
   "source": [
    "def sarsa():\n",
    "    history = []\n",
    "    for episodes in range(100):\n",
    "        s = env.reset()\n",
    "        action = choose_action(s)\n",
    "\n",
    "        for i in range(50):\n",
    "            s_next, reward, done, info = env.step(action)\n",
    "\n",
    "            action_next = choose_action(s_next)\n",
    "\n",
    "            Q[s, action] += lr*(reward + gamma*(Q[s_next, action_next]) - Q[s,action])\n",
    "            s = s_next\n",
    "            action = action_next\n",
    "\n",
    "        history.append(test_policy(100))\n",
    "    env.close()\n",
    "    return history"
   ]
  },
  {
   "cell_type": "code",
   "execution_count": 121,
   "metadata": {},
   "outputs": [
    {
     "name": "stdout",
     "output_type": "stream",
     "text": [
      "[[ 3.00312397  3.97726929]\n",
      " [ 3.0301495   3.91260721]\n",
      " [ 4.41171998  4.41171681]\n",
      " [ 7.63545747  4.69101194]\n",
      " [15.19073112  4.65935137]]\n"
     ]
    },
    {
     "data": {
      "image/png": "[encoded data removed]",
      "text/plain": [
       "<Figure size 432x288 with 1 Axes>"
      ]
     },
     "metadata": {
      "needs_background": "light"
     },
     "output_type": "display_data"
    }
   ],
   "source": [
    "history = Q_learning()\n",
    "\n",
    "print(Q)\n",
    "plt.plot(history)\n",
    "plt.ylim(0)\n",
    "plt.show()"
   ]
  },
  {
   "cell_type": "code",
   "execution_count": 122,
   "metadata": {},
   "outputs": [
    {
     "name": "stdout",
     "output_type": "stream",
     "text": [
      "[[ 2.63766559  3.62975457]\n",
      " [ 2.76066464  3.97406433]\n",
      " [ 3.96517053  4.0663122 ]\n",
      " [ 7.21408273  4.55606611]\n",
      " [15.24917281  4.61074295]]\n"
     ]
    },
    {
     "data": {
      "image/png": "[encoded data removed]",
      "text/plain": [
       "<Figure size 432x288 with 1 Axes>"
      ]
     },
     "metadata": {
      "needs_background": "light"
     },
     "output_type": "display_data"
    }
   ],
   "source": [
    "history = sarsa()\n",
    "\n",
    "print(Q)\n",
    "plt.plot(history)\n",
    "plt.ylim(0)\n",
    "plt.show()"
   ]
  },
  {
   "cell_type": "code",
   "execution_count": null,
   "metadata": {},
   "outputs": [],
   "source": []
  },
  {
   "cell_type": "code",
   "execution_count": null,
   "metadata": {},
   "outputs": [],
   "source": []
  }
 ],
 "metadata": {
  "kernelspec": {
   "display_name": ".venv",
   "language": "python",
   "name": ".venv"
  },
  "language_info": {
   "codemirror_mode": {
    "name": "ipython",
    "version": 3
   },
   "file_extension": ".py",
   "mimetype": "text/x-python",
   "name": "python",
   "nbconvert_exporter": "python",
   "pygments_lexer": "ipython3",
   "version": "3.6.8"
  }
 },
 "nbformat": 4,
 "nbformat_minor": 2
}
